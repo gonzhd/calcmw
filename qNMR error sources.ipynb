{
 "cells": [
  {
   "cell_type": "markdown",
   "metadata": {},
   "source": [
    "# Cálculo de la Incertidumbre en Medidas de Pureza por RMN Cuantitativo"
   ]
  },
  {
   "cell_type": "markdown",
   "metadata": {},
   "source": [
    "La resonancia Magnética Nuclear es una de las técnicas de análisis químico más importantes y versátiles con las que contamos. Es una técnica que permite la identificación y cuantificación de sustancias químicas de una manera no destructiva, es decir se recupera la muestra al final del análisis y además una misma muestra puede analizarse múltiples veces.\n",
    "Algunas de las ventajas que ofrece este método son:\n",
    "- determinación de la estructura a nivel molecular\n",
    "- tiempos de medida relativamente cortos\n",
    "- no necesita derivatización química de la muestra\n",
    "- no necesita aislar el analito en mezclas simples\n",
    "- cuantificación de varios analitos en la misma muestra\n",
    "- cuantificación de mezclas complejas por métodos quimiométricos\n",
    "- varios tipos de compuestos al mismo tiempo, carbohidratos, aminoácidos, metabolitos, etc.\n"
   ]
  },
  {
   "cell_type": "markdown",
   "metadata": {},
   "source": [
    "## Método de Estándar Interno\n",
    "\n",
    "El método más común para la determinación de la pureza es mediante la utilización de un patrón interno de pureza conocida. Luego se adquiere un espectro de protón en condiciones cuantitativas y se mide la relación de integrales de señales correspondientes a los analitos y al patrón. De la relación entre estas señales y conociendo la pureza del patrón primario e puede calcular la pureza del analito. "
   ]
  },
  {
   "cell_type": "markdown",
   "metadata": {},
   "source": [
    "El concepto fundamental de RMN cuantitativo es que la respuesta del instrumento, medida como la integral de una determinada señal, es proporcional al número de moles del núcleo en estudio $\\left(^1H, ^{13}C, ^{19}F, ^{31}P\\right)$, que dió lugar a la señal. Lo podemos escribir de la siguiente manera:"
   ]
  },
  {
   "cell_type": "markdown",
   "metadata": {},
   "source": [
    "$I_x=K_xn_x$"
   ]
  },
  {
   "cell_type": "markdown",
   "metadata": {},
   "source": [
    "donde $I_x$ es la integral de la señal, $K_x$ es la constante de respuesta del método, y $n_x$ es el número de moles de núcleos que dió origen a la señal. Teniendo también en cuenta el número de núcleos correspondientes $N_x$, podemos relacionar la respuesta del instrumento $I_x$ con la masa de analito pesada al preparar la muestra, $m_x$, de la siguiente manera:"
   ]
  },
  {
   "cell_type": "markdown",
   "metadata": {},
   "source": [
    "$I_x=K_x\\frac{m_x}{M_x}N_x$"
   ]
  },
  {
   "cell_type": "markdown",
   "metadata": {},
   "source": [
    "donde $M_x$ es el peso molecular del analito y $N_x$ es el número de núcleos integrados. Esta ecuación asume que toda la masa pesada de analito contribuye en la respuesta final del instrumento. Esto es lo mismo que suponer una pureza del 100% para e analito. En forma general podemos tomar en cuenta una pureza menor al 100% si considermos que solo una fraccion de la masa $m_x$ da origen a la integral. Por lo tanto, podemos escribir la respuesta $I_x$ como: "
   ]
  },
  {
   "cell_type": "markdown",
   "metadata": {},
   "source": [
    "$I_x=K_x\\frac{m_x}{M_x}N_xP_x$"
   ]
  },
  {
   "cell_type": "markdown",
   "metadata": {},
   "source": [
    "donde $P_x$ es la pureza del analito. \n",
    "De la misma manera, podemos escribir la relación entre la intensidad de las señales del patrón de pureza y la masa pesada del mismo de la siguiente manera: "
   ]
  },
  {
   "cell_type": "markdown",
   "metadata": {},
   "source": [
    "$I_p=K_p\\frac{m_p}{M_p}N_pP_p$"
   ]
  },
  {
   "cell_type": "markdown",
   "metadata": {},
   "source": [
    "Si ahora calculamos la relación de integrales $I_x/I_p$ tenemos que"
   ]
  },
  {
   "cell_type": "markdown",
   "metadata": {},
   "source": [
    "$\\frac{I_x}{I_p}=\\frac{K_x}{K_p}\\frac{m_x}{m_p}\\frac{M_p}{M_x}\\frac{N_x}{N_p}\\frac{P_x}{P_p}$"
   ]
  },
  {
   "cell_type": "markdown",
   "metadata": {},
   "source": [
    "y despejando $P_x$, tenemos que"
   ]
  },
  {
   "cell_type": "markdown",
   "metadata": {},
   "source": [
    "$P_x=\\frac{K_p}{K_x}\\frac{I_x}{I_p}\\frac{m_p}{m_x}\\frac{M_x}{M_p}\\frac{N_p}{N_x}P_p$"
   ]
  },
  {
   "cell_type": "markdown",
   "metadata": {},
   "source": [
    "En la ecuación anterior todavía mantenemos la relación $K_p/K_x$, que es la relación de constantes de proporcionalidad entre la respuesta del instrumento y la cantidad de material a medir, estan incluídos parámetros referentes a la construcción del espectrómetro, como ser el tamaño del campo magnético, o la eficiencia de sus componentes electrónicos, así como también parámetros inherentes al propio método de análisis, como ser los tiempos de adquisición y relajación. Si los datos son obtenidos bajo condiciones experimentales cuantitativas, entonces $K_p/K_x=1$, y obtenemos la ecuación final para el cálculo de la pureza:"
   ]
  },
  {
   "cell_type": "markdown",
   "metadata": {},
   "source": [
    "$P_x=\\frac{I_x}{I_p}\\frac{m_p}{m_x}\\frac{M_x}{M_p}\\frac{N_p}{N_x}P_p$"
   ]
  },
  {
   "cell_type": "markdown",
   "metadata": {},
   "source": [
    "## Medida de la Incertidumbre\n",
    "\n",
    "Para determinar la incertidumbre de la medida analítica vamos a utilizar la guía internacional CG 4 EURACHEM / CITAC, la cual describe el procedimiento para la determinación de la incertidumbre en medidas analíticas. De acuerdo a esta guía, todas las fuentes de incertidumbre tienen que tenerse en cuenta mediante el procedimiento de propagación del error. Para el caso de la medida de la pureza, tenemos que la incertidumbre expandida $u_c(P_x)$ puede calcularse como:"
   ]
  },
  {
   "cell_type": "markdown",
   "metadata": {},
   "source": [
    "$u_c(P_x)=P_x\\sqrt{\\left(\\frac{u(I_x)}{I_x}\\right)^2+\n",
    "                   \\left(\\frac{u(I_p)}{I_p}\\right)^2+\n",
    "                   \\left(\\frac{u(m_x)}{m_x}\\right)^2+\n",
    "                   \\left(\\frac{u(m_p)}{m_p}\\right)^2+\n",
    "                   \\left(\\frac{u(M_x)}{M_x}\\right)^2+\n",
    "                   \\left(\\frac{u(M_p)}{M_p}\\right)^2+\n",
    "                   \\left(\\frac{u(P_p)}{P_p}\\right)^2}$"
   ]
  },
  {
   "cell_type": "markdown",
   "metadata": {},
   "source": [
    "analizemos cada término por separado."
   ]
  },
  {
   "cell_type": "markdown",
   "metadata": {},
   "source": [
    "### Incertidumbre en la Integración\n",
    "\n",
    "Los dos primeros términos que vemos en la ecuación de la incertidumbre expandida $u_c$ corresponden al error de integración de las señales correspondientes al analito y al estándar interno. Para estimar la incertidumbre relacionada al procedimiento de integración puede utilizarse la desviación estandar de varias integraciones de un mismo operario así como también de otros operarios. Usualmente, si se mantiene un protocolo de integración correcto esta fuente de inertidumbre es mínima comparado con el resto. Sin embargo, es la fuente de error potencial más grande cuando no se realiza adecuadamente. "
   ]
  },
  {
   "cell_type": "markdown",
   "metadata": {},
   "source": [
    "### Incertidumbre en la pesada\n",
    "\n",
    "Los siguientes dos términos de la incertidumbre expandida $u_c$ corresponden a la incertidumbre en los pesos iniciales del analito y estándar interno. Éstos vienen dados por la incertidumbre de la balanza utilizada en términos de repetibilidad $u_w(m)$ y desviación de la linearidad $u_{nl}(m)$. Estos parámetros son determinados por el fabricante y son específios para cada tipo de balanza. La incertidumbre de la pesada se calcula mediante la siguiente formula,"
   ]
  },
  {
   "cell_type": "markdown",
   "metadata": {},
   "source": [
    "$u(m_i)=\\sqrt{u_w(m)^2+2u_{nl}(m)^2}$\n"
   ]
  },
  {
   "cell_type": "markdown",
   "metadata": {},
   "source": [
    "### Incertidumbre en el cálculo del peso molecular\n",
    "\n",
    "Para el cálculo de la incertidumbre asociada a la determinación del peso molecular, tieme que tenerse en cuenta las incertidumbres asociadas con los pesos atómicos teniendo en cuenta la distribución isotópica para los diferentes elementos. A partir de la fórmula molecular se calcula la incertidumbre de la siguiente manera:"
   ]
  },
  {
   "cell_type": "markdown",
   "metadata": {},
   "source": [
    "$u(M_i)=\\sqrt{\\sum{(N_ju(j))^2}}$"
   ]
  },
  {
   "cell_type": "markdown",
   "metadata": {},
   "source": [
    "donde $j$ corresponde a los diferentes elementos de la fórmula molecular, $N_j$ es el número de atomos $j$, y $u(j)$ es la incertidumbre del peso atómico $j$."
   ]
  },
  {
   "cell_type": "markdown",
   "metadata": {},
   "source": [
    "### Incertidumbre en la pureza del estándar interno\n",
    "\n",
    "Por último tenemos que tener en cuenta la incertidumbre en la determinación de la pureza del estándar interno. Para minimizar este término se utilizan estándares primarios de pureza conocida y con una incertidumbre muy baja. Por ejemplo el estándar SRM 350a que proporciona NIST tiene una pureza certificada del 99.9958 $\\pm$ 0.0027 g/g%."
   ]
  },
  {
   "cell_type": "markdown",
   "metadata": {},
   "source": [
    "## Incertidumbre Extendida $U$\n",
    "\n",
    "La incertidumbre extendida se calcula tomando un factor de covertura $k$. Para el caso de una distribución normal de la medida, un valor de $k=2$ corresponde a un intervalo de confianza del 95%."
   ]
  },
  {
   "cell_type": "markdown",
   "metadata": {},
   "source": [
    "$U(P_x)=ku_c(P_x)$"
   ]
  },
  {
   "cell_type": "markdown",
   "metadata": {},
   "source": [
    "# Visualización de la Incertidumbre\n",
    "\n",
    "Vamos ahora a tratar de ilustrar el peso relativo que tienen cada uno de los factores anteriormente mencionados en el valor final de la incertidumbre. Para ello necesitamos definir algunas funciones que nos ayudarán en este cálculo. "
   ]
  },
  {
   "cell_type": "code",
   "execution_count": 4,
   "metadata": {},
   "outputs": [],
   "source": [
    "import numpy as np\n",
    "import matplotlib.pyplot as plt\n",
    "%matplotlib inline"
   ]
  },
  {
   "cell_type": "code",
   "execution_count": 8,
   "metadata": {},
   "outputs": [],
   "source": [
    "# Calcular la incertidumbre de la balanza según sus parámetros operacionales\n",
    "def u_bal(uw=0.02, unl=0.1):\n",
    "    return np.sqrt(uw**2+2*unl**2)"
   ]
  },
  {
   "cell_type": "code",
   "execution_count": null,
   "metadata": {},
   "outputs": [],
   "source": [
    "# Calcular el peso molecular y la incertidumbre asociada a partir de la fórmula molecular\n",
    "def u_mw(MF):\n",
    "    "
   ]
  },
  {
   "cell_type": "code",
   "execution_count": null,
   "metadata": {},
   "outputs": [],
   "source": [
    "# Propiedades ácido benzoico como estándar interno\n",
    "MFp = \"C7H6O2\"\n",
    "Pp = 99.9958\n",
    "uPp = 0.0027\n",
    "\n",
    "# Peso molecular ácido benzoico \n",
    "#Mp, uMp = calculate_MW(MFp)\n",
    "\n",
    "# Incertidumbre relacionada con la balanza\n",
    "uw = 0.02\n",
    "unl = 0.1\n",
    "\n"
   ]
  }
 ],
 "metadata": {
  "kernelspec": {
   "display_name": "Python 3",
   "language": "python",
   "name": "python3"
  },
  "language_info": {
   "codemirror_mode": {
    "name": "ipython",
    "version": 3
   },
   "file_extension": ".py",
   "mimetype": "text/x-python",
   "name": "python",
   "nbconvert_exporter": "python",
   "pygments_lexer": "ipython3",
   "version": "3.6.4"
  }
 },
 "nbformat": 4,
 "nbformat_minor": 2
}
