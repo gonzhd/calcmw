{
 "cells": [
  {
   "cell_type": "markdown",
   "metadata": {},
   "source": [
    "# Molecular Weight Uncertainty Calcuation\n",
    "\n",
    "In the latest review of atomic masses the IUPAC has stated that some elements do not show a single atomic mass since there is substantial variation in the isotopic composition of the same materials around the world. For these cases, the atomic mass of an element is given as a range of possible masses. This range does not represent a statement of uncertainty but just the range of pssible values. In order to calculate the real uncertainty related with the calculation of molecular weights by addition of the atomic weights of the constituent elements we have to do error propagation."
   ]
  },
  {
   "cell_type": "markdown",
   "metadata": {},
   "source": [
    "The usual way of calculating the molecular weight of a molecule is the following:\n",
    "\n",
    "$MW=\\sum{N_iA_i}$\n",
    "\n",
    "wherre $N_i$ and $A_i$ are the number and atomic weight of element $i$. In turn, for the calculation of the atomic weight $A_i$ we have\n",
    "\n",
    "$A_i=\\sum{w_jm_j}$\n",
    "\n",
    "were $w_j$ is the abundance of isotope $j$ and $m_j$ corresponds to its atomic mass.\n",
    "It turns out that the isotopic atomic mass has a very low uncertaity but the natural abundance of the different isotopes has a wider variability in nature, which imposes a considerable uncertainty in its measurement."
   ]
  },
  {
   "cell_type": "markdown",
   "metadata": {},
   "source": [
    "## Uncertainty propagation\n",
    "\n",
    "The uncertainty of the molecular weight $u(MW)$ can be calculated as\n",
    "\n",
    "$u(MW)=\\displaystyle\\sqrt{\\sum_i{N_i^2u(A_i)^2}}$\n",
    "\n",
    "where $u(A_i)^2$ is the variance related to the atomic weight $A_i$ \n",
    "\n",
    "\n"
   ]
  },
  {
   "cell_type": "markdown",
   "metadata": {},
   "source": [
    "The atomic weight variance can be calculated from the isotopic atomic masses and natural abundance uncertainties as follows\n",
    "\n",
    "$u(A_i)^2=\\displaystyle\\sum_j{(w_jm_j)^2\\left[\\left(\\frac{u(w_j)}{w_j}\\right)^2+\\left(\\frac{u(m_j)}{m_j}\\right)^2\\right]}$"
   ]
  },
  {
   "cell_type": "markdown",
   "metadata": {},
   "source": [
    "where $u(w_j)$ is the uncertainty of isotope $j^{th}$ composition and $u(m_j)$ is the uncertainty of the atomic mass."
   ]
  },
  {
   "cell_type": "markdown",
   "metadata": {},
   "source": [
    "## Example Calculation\n",
    "\n",
    "### Atomic weight calculation of Carbon\n",
    "\n",
    "Let's take Carbon as an example calculation. Based on the latest IUPAC revision of atomic masses and compositions we have that Carbon has two stable isotopes that contribute to the atomic weight, $^{12}C$ and $^{13}C$, their corrsponding values are:\n",
    "- $m(^{12}C)=12.0000000(00)$\n",
    "- $w(^{12}C)=0.9893(8)$\n",
    "- $m(^{13}C)=13.00335483507(23)$\n",
    "- $w(^{13}C)=0.0107(8)$\n",
    "where the number in parenthesis is the uncertainty of the last significant figures. "
   ]
  },
  {
   "cell_type": "code",
   "execution_count": null,
   "metadata": {},
   "outputs": [],
   "source": []
  }
 ],
 "metadata": {
  "kernelspec": {
   "display_name": "Python 3",
   "language": "python",
   "name": "python3"
  },
  "language_info": {
   "codemirror_mode": {
    "name": "ipython",
    "version": 3
   },
   "file_extension": ".py",
   "mimetype": "text/x-python",
   "name": "python",
   "nbconvert_exporter": "python",
   "pygments_lexer": "ipython3",
   "version": "3.6.4"
  }
 },
 "nbformat": 4,
 "nbformat_minor": 2
}
